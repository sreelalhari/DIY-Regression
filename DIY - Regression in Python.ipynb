{
 "cells": [
  {
   "cell_type": "code",
   "execution_count": 1,
   "metadata": {},
   "outputs": [],
   "source": [
    "import pandas as pd\n",
    "import numpy as np\n",
    "import matplotlib.pyplot as plt\n",
    "import statsmodels.api as sm\n",
    "from sklearn.linear_model import LinearRegression\n",
    "import seaborn as sns\n",
    "%matplotlib inline\n"
   ]
  },
  {
   "cell_type": "code",
   "execution_count": 2,
   "metadata": {},
   "outputs": [],
   "source": [
    "df=pd.read_csv('https://grantmlong.com/data/streeteasy_rents_june2016.csv')"
   ]
  },
  {
   "cell_type": "code",
   "execution_count": 3,
   "metadata": {},
   "outputs": [
    {
     "data": {
      "text/html": [
       "<div>\n",
       "<style scoped>\n",
       "    .dataframe tbody tr th:only-of-type {\n",
       "        vertical-align: middle;\n",
       "    }\n",
       "\n",
       "    .dataframe tbody tr th {\n",
       "        vertical-align: top;\n",
       "    }\n",
       "\n",
       "    .dataframe thead th {\n",
       "        text-align: right;\n",
       "    }\n",
       "</style>\n",
       "<table border=\"1\" class=\"dataframe\">\n",
       "  <thead>\n",
       "    <tr style=\"text-align: right;\">\n",
       "      <th></th>\n",
       "      <th>rental_id</th>\n",
       "      <th>building_id</th>\n",
       "      <th>rent</th>\n",
       "      <th>bedrooms</th>\n",
       "      <th>bathrooms</th>\n",
       "      <th>size_sqft</th>\n",
       "      <th>min_to_subway</th>\n",
       "      <th>floor</th>\n",
       "      <th>building_age_yrs</th>\n",
       "      <th>no_fee</th>\n",
       "      <th>has_roofdeck</th>\n",
       "      <th>has_washer_dryer</th>\n",
       "      <th>has_doorman</th>\n",
       "      <th>has_elevator</th>\n",
       "      <th>has_dishwasher</th>\n",
       "      <th>has_patio</th>\n",
       "      <th>has_gym</th>\n",
       "      <th>neighborhood</th>\n",
       "      <th>submarket</th>\n",
       "      <th>borough</th>\n",
       "    </tr>\n",
       "  </thead>\n",
       "  <tbody>\n",
       "    <tr>\n",
       "      <th>0</th>\n",
       "      <td>1545</td>\n",
       "      <td>44518357</td>\n",
       "      <td>2550</td>\n",
       "      <td>0.0</td>\n",
       "      <td>1</td>\n",
       "      <td>480</td>\n",
       "      <td>9</td>\n",
       "      <td>2.0</td>\n",
       "      <td>17</td>\n",
       "      <td>1</td>\n",
       "      <td>1</td>\n",
       "      <td>0</td>\n",
       "      <td>0</td>\n",
       "      <td>1</td>\n",
       "      <td>1</td>\n",
       "      <td>0</td>\n",
       "      <td>1</td>\n",
       "      <td>Upper East Side</td>\n",
       "      <td>All Upper East Side</td>\n",
       "      <td>Manhattan</td>\n",
       "    </tr>\n",
       "    <tr>\n",
       "      <th>1</th>\n",
       "      <td>2472</td>\n",
       "      <td>94441623</td>\n",
       "      <td>11500</td>\n",
       "      <td>2.0</td>\n",
       "      <td>2</td>\n",
       "      <td>2000</td>\n",
       "      <td>4</td>\n",
       "      <td>1.0</td>\n",
       "      <td>96</td>\n",
       "      <td>0</td>\n",
       "      <td>0</td>\n",
       "      <td>0</td>\n",
       "      <td>0</td>\n",
       "      <td>0</td>\n",
       "      <td>0</td>\n",
       "      <td>0</td>\n",
       "      <td>0</td>\n",
       "      <td>Greenwich Village</td>\n",
       "      <td>All Downtown</td>\n",
       "      <td>Manhattan</td>\n",
       "    </tr>\n",
       "    <tr>\n",
       "      <th>2</th>\n",
       "      <td>10234</td>\n",
       "      <td>87632265</td>\n",
       "      <td>3000</td>\n",
       "      <td>3.0</td>\n",
       "      <td>1</td>\n",
       "      <td>1000</td>\n",
       "      <td>4</td>\n",
       "      <td>1.0</td>\n",
       "      <td>106</td>\n",
       "      <td>0</td>\n",
       "      <td>0</td>\n",
       "      <td>0</td>\n",
       "      <td>0</td>\n",
       "      <td>0</td>\n",
       "      <td>0</td>\n",
       "      <td>0</td>\n",
       "      <td>0</td>\n",
       "      <td>Astoria</td>\n",
       "      <td>Northwest Queens</td>\n",
       "      <td>Queens</td>\n",
       "    </tr>\n",
       "    <tr>\n",
       "      <th>3</th>\n",
       "      <td>2919</td>\n",
       "      <td>76909719</td>\n",
       "      <td>4500</td>\n",
       "      <td>1.0</td>\n",
       "      <td>1</td>\n",
       "      <td>916</td>\n",
       "      <td>2</td>\n",
       "      <td>51.0</td>\n",
       "      <td>29</td>\n",
       "      <td>0</td>\n",
       "      <td>1</td>\n",
       "      <td>0</td>\n",
       "      <td>1</td>\n",
       "      <td>1</td>\n",
       "      <td>1</td>\n",
       "      <td>0</td>\n",
       "      <td>0</td>\n",
       "      <td>Midtown</td>\n",
       "      <td>All Midtown</td>\n",
       "      <td>Manhattan</td>\n",
       "    </tr>\n",
       "    <tr>\n",
       "      <th>4</th>\n",
       "      <td>2790</td>\n",
       "      <td>92953520</td>\n",
       "      <td>4795</td>\n",
       "      <td>1.0</td>\n",
       "      <td>1</td>\n",
       "      <td>975</td>\n",
       "      <td>3</td>\n",
       "      <td>8.0</td>\n",
       "      <td>31</td>\n",
       "      <td>0</td>\n",
       "      <td>0</td>\n",
       "      <td>0</td>\n",
       "      <td>1</td>\n",
       "      <td>1</td>\n",
       "      <td>1</td>\n",
       "      <td>0</td>\n",
       "      <td>1</td>\n",
       "      <td>Greenwich Village</td>\n",
       "      <td>All Downtown</td>\n",
       "      <td>Manhattan</td>\n",
       "    </tr>\n",
       "  </tbody>\n",
       "</table>\n",
       "</div>"
      ],
      "text/plain": [
       "   rental_id  building_id   rent  bedrooms  bathrooms  size_sqft  \\\n",
       "0       1545     44518357   2550       0.0          1        480   \n",
       "1       2472     94441623  11500       2.0          2       2000   \n",
       "2      10234     87632265   3000       3.0          1       1000   \n",
       "3       2919     76909719   4500       1.0          1        916   \n",
       "4       2790     92953520   4795       1.0          1        975   \n",
       "\n",
       "   min_to_subway  floor  building_age_yrs  no_fee  has_roofdeck  \\\n",
       "0              9    2.0                17       1             1   \n",
       "1              4    1.0                96       0             0   \n",
       "2              4    1.0               106       0             0   \n",
       "3              2   51.0                29       0             1   \n",
       "4              3    8.0                31       0             0   \n",
       "\n",
       "   has_washer_dryer  has_doorman  has_elevator  has_dishwasher  has_patio  \\\n",
       "0                 0            0             1               1          0   \n",
       "1                 0            0             0               0          0   \n",
       "2                 0            0             0               0          0   \n",
       "3                 0            1             1               1          0   \n",
       "4                 0            1             1               1          0   \n",
       "\n",
       "   has_gym       neighborhood            submarket    borough  \n",
       "0        1    Upper East Side  All Upper East Side  Manhattan  \n",
       "1        0  Greenwich Village         All Downtown  Manhattan  \n",
       "2        0            Astoria     Northwest Queens     Queens  \n",
       "3        0            Midtown          All Midtown  Manhattan  \n",
       "4        1  Greenwich Village         All Downtown  Manhattan  "
      ]
     },
     "execution_count": 3,
     "metadata": {},
     "output_type": "execute_result"
    }
   ],
   "source": [
    "df.head()"
   ]
  },
  {
   "cell_type": "code",
   "execution_count": 4,
   "metadata": {
    "scrolled": true
   },
   "outputs": [
    {
     "data": {
      "text/plain": [
       "(array([1779., 1885.,  617.,  295.,  161.,   86.,   72.,   54.,   32.,\n",
       "          19.]),\n",
       " array([ 1250.,  3125.,  5000.,  6875.,  8750., 10625., 12500., 14375.,\n",
       "        16250., 18125., 20000.]),\n",
       " <a list of 10 Patch objects>)"
      ]
     },
     "execution_count": 4,
     "metadata": {},
     "output_type": "execute_result"
    },
    {
     "data": {
      "image/png": "[encoded data removed]",
      "text/plain": [
       "<Figure size 432x288 with 1 Axes>"
      ]
     },
     "metadata": {
      "needs_background": "light"
     },
     "output_type": "display_data"
    }
   ],
   "source": [
    "plt.hist(x=df['rent'])"
   ]
  },
  {
   "cell_type": "code",
   "execution_count": 5,
   "metadata": {
    "scrolled": true
   },
   "outputs": [
    {
     "data": {
      "text/plain": [
       "(5000, 20)"
      ]
     },
     "execution_count": 5,
     "metadata": {},
     "output_type": "execute_result"
    }
   ],
   "source": [
    "df.shape"
   ]
  },
  {
   "cell_type": "code",
   "execution_count": 6,
   "metadata": {},
   "outputs": [
    {
     "data": {
      "text/plain": [
       "Index(['rental_id', 'building_id', 'rent', 'bedrooms', 'bathrooms',\n",
       "       'size_sqft', 'min_to_subway', 'floor', 'building_age_yrs', 'no_fee',\n",
       "       'has_roofdeck', 'has_washer_dryer', 'has_doorman', 'has_elevator',\n",
       "       'has_dishwasher', 'has_patio', 'has_gym', 'neighborhood', 'submarket',\n",
       "       'borough'],\n",
       "      dtype='object')"
      ]
     },
     "execution_count": 6,
     "metadata": {},
     "output_type": "execute_result"
    }
   ],
   "source": [
    "df.columns"
   ]
  },
  {
   "cell_type": "code",
   "execution_count": 7,
   "metadata": {},
   "outputs": [
    {
     "data": {
      "text/html": [
       "<div>\n",
       "<style scoped>\n",
       "    .dataframe tbody tr th:only-of-type {\n",
       "        vertical-align: middle;\n",
       "    }\n",
       "\n",
       "    .dataframe tbody tr th {\n",
       "        vertical-align: top;\n",
       "    }\n",
       "\n",
       "    .dataframe thead th {\n",
       "        text-align: right;\n",
       "    }\n",
       "</style>\n",
       "<table border=\"1\" class=\"dataframe\">\n",
       "  <thead>\n",
       "    <tr style=\"text-align: right;\">\n",
       "      <th></th>\n",
       "      <th>rental_id</th>\n",
       "      <th>building_id</th>\n",
       "      <th>rent</th>\n",
       "      <th>bedrooms</th>\n",
       "      <th>bathrooms</th>\n",
       "      <th>size_sqft</th>\n",
       "      <th>min_to_subway</th>\n",
       "      <th>floor</th>\n",
       "      <th>building_age_yrs</th>\n",
       "      <th>no_fee</th>\n",
       "      <th>has_roofdeck</th>\n",
       "      <th>has_washer_dryer</th>\n",
       "      <th>has_doorman</th>\n",
       "      <th>has_elevator</th>\n",
       "      <th>has_dishwasher</th>\n",
       "      <th>has_patio</th>\n",
       "      <th>has_gym</th>\n",
       "    </tr>\n",
       "  </thead>\n",
       "  <tbody>\n",
       "    <tr>\n",
       "      <th>count</th>\n",
       "      <td>5000.000000</td>\n",
       "      <td>5.000000e+03</td>\n",
       "      <td>5000.000000</td>\n",
       "      <td>5000.000000</td>\n",
       "      <td>5000.000000</td>\n",
       "      <td>5000.000000</td>\n",
       "      <td>5000.000000</td>\n",
       "      <td>5000.000000</td>\n",
       "      <td>5000.000000</td>\n",
       "      <td>5000.000000</td>\n",
       "      <td>5000.00000</td>\n",
       "      <td>5000.000000</td>\n",
       "      <td>5000.000000</td>\n",
       "      <td>5000.000000</td>\n",
       "      <td>5000.000000</td>\n",
       "      <td>5000.000000</td>\n",
       "      <td>5000.000000</td>\n",
       "    </tr>\n",
       "    <tr>\n",
       "      <th>mean</th>\n",
       "      <td>5526.909400</td>\n",
       "      <td>5.122007e+07</td>\n",
       "      <td>4536.920800</td>\n",
       "      <td>1.395700</td>\n",
       "      <td>1.321600</td>\n",
       "      <td>920.101400</td>\n",
       "      <td>5.079200</td>\n",
       "      <td>10.190200</td>\n",
       "      <td>52.093200</td>\n",
       "      <td>0.429600</td>\n",
       "      <td>0.12860</td>\n",
       "      <td>0.133800</td>\n",
       "      <td>0.228000</td>\n",
       "      <td>0.240000</td>\n",
       "      <td>0.155600</td>\n",
       "      <td>0.045600</td>\n",
       "      <td>0.143800</td>\n",
       "    </tr>\n",
       "    <tr>\n",
       "      <th>std</th>\n",
       "      <td>3263.692417</td>\n",
       "      <td>2.802283e+07</td>\n",
       "      <td>2929.838953</td>\n",
       "      <td>0.961018</td>\n",
       "      <td>0.565542</td>\n",
       "      <td>440.150464</td>\n",
       "      <td>5.268897</td>\n",
       "      <td>10.565361</td>\n",
       "      <td>40.224501</td>\n",
       "      <td>0.495069</td>\n",
       "      <td>0.33479</td>\n",
       "      <td>0.340471</td>\n",
       "      <td>0.419585</td>\n",
       "      <td>0.427126</td>\n",
       "      <td>0.362512</td>\n",
       "      <td>0.208637</td>\n",
       "      <td>0.350922</td>\n",
       "    </tr>\n",
       "    <tr>\n",
       "      <th>min</th>\n",
       "      <td>1.000000</td>\n",
       "      <td>7.107000e+03</td>\n",
       "      <td>1250.000000</td>\n",
       "      <td>0.000000</td>\n",
       "      <td>0.000000</td>\n",
       "      <td>250.000000</td>\n",
       "      <td>0.000000</td>\n",
       "      <td>0.000000</td>\n",
       "      <td>0.000000</td>\n",
       "      <td>0.000000</td>\n",
       "      <td>0.00000</td>\n",
       "      <td>0.000000</td>\n",
       "      <td>0.000000</td>\n",
       "      <td>0.000000</td>\n",
       "      <td>0.000000</td>\n",
       "      <td>0.000000</td>\n",
       "      <td>0.000000</td>\n",
       "    </tr>\n",
       "    <tr>\n",
       "      <th>25%</th>\n",
       "      <td>2699.750000</td>\n",
       "      <td>2.699811e+07</td>\n",
       "      <td>2750.000000</td>\n",
       "      <td>1.000000</td>\n",
       "      <td>1.000000</td>\n",
       "      <td>633.000000</td>\n",
       "      <td>2.000000</td>\n",
       "      <td>3.000000</td>\n",
       "      <td>12.000000</td>\n",
       "      <td>0.000000</td>\n",
       "      <td>0.00000</td>\n",
       "      <td>0.000000</td>\n",
       "      <td>0.000000</td>\n",
       "      <td>0.000000</td>\n",
       "      <td>0.000000</td>\n",
       "      <td>0.000000</td>\n",
       "      <td>0.000000</td>\n",
       "    </tr>\n",
       "    <tr>\n",
       "      <th>50%</th>\n",
       "      <td>5456.500000</td>\n",
       "      <td>5.069894e+07</td>\n",
       "      <td>3600.000000</td>\n",
       "      <td>1.000000</td>\n",
       "      <td>1.000000</td>\n",
       "      <td>800.000000</td>\n",
       "      <td>4.000000</td>\n",
       "      <td>6.000000</td>\n",
       "      <td>44.000000</td>\n",
       "      <td>0.000000</td>\n",
       "      <td>0.00000</td>\n",
       "      <td>0.000000</td>\n",
       "      <td>0.000000</td>\n",
       "      <td>0.000000</td>\n",
       "      <td>0.000000</td>\n",
       "      <td>0.000000</td>\n",
       "      <td>0.000000</td>\n",
       "    </tr>\n",
       "    <tr>\n",
       "      <th>75%</th>\n",
       "      <td>8306.000000</td>\n",
       "      <td>7.572064e+07</td>\n",
       "      <td>5200.000000</td>\n",
       "      <td>2.000000</td>\n",
       "      <td>2.000000</td>\n",
       "      <td>1094.000000</td>\n",
       "      <td>6.000000</td>\n",
       "      <td>14.000000</td>\n",
       "      <td>89.000000</td>\n",
       "      <td>1.000000</td>\n",
       "      <td>0.00000</td>\n",
       "      <td>0.000000</td>\n",
       "      <td>0.000000</td>\n",
       "      <td>0.000000</td>\n",
       "      <td>0.000000</td>\n",
       "      <td>0.000000</td>\n",
       "      <td>0.000000</td>\n",
       "    </tr>\n",
       "    <tr>\n",
       "      <th>max</th>\n",
       "      <td>11349.000000</td>\n",
       "      <td>9.998721e+07</td>\n",
       "      <td>20000.000000</td>\n",
       "      <td>5.000000</td>\n",
       "      <td>5.000000</td>\n",
       "      <td>4800.000000</td>\n",
       "      <td>51.000000</td>\n",
       "      <td>83.000000</td>\n",
       "      <td>180.000000</td>\n",
       "      <td>1.000000</td>\n",
       "      <td>1.00000</td>\n",
       "      <td>1.000000</td>\n",
       "      <td>1.000000</td>\n",
       "      <td>1.000000</td>\n",
       "      <td>1.000000</td>\n",
       "      <td>1.000000</td>\n",
       "      <td>1.000000</td>\n",
       "    </tr>\n",
       "  </tbody>\n",
       "</table>\n",
       "</div>"
      ],
      "text/plain": [
       "          rental_id   building_id          rent     bedrooms    bathrooms  \\\n",
       "count   5000.000000  5.000000e+03   5000.000000  5000.000000  5000.000000   \n",
       "mean    5526.909400  5.122007e+07   4536.920800     1.395700     1.321600   \n",
       "std     3263.692417  2.802283e+07   2929.838953     0.961018     0.565542   \n",
       "min        1.000000  7.107000e+03   1250.000000     0.000000     0.000000   \n",
       "25%     2699.750000  2.699811e+07   2750.000000     1.000000     1.000000   \n",
       "50%     5456.500000  5.069894e+07   3600.000000     1.000000     1.000000   \n",
       "75%     8306.000000  7.572064e+07   5200.000000     2.000000     2.000000   \n",
       "max    11349.000000  9.998721e+07  20000.000000     5.000000     5.000000   \n",
       "\n",
       "         size_sqft  min_to_subway        floor  building_age_yrs       no_fee  \\\n",
       "count  5000.000000    5000.000000  5000.000000       5000.000000  5000.000000   \n",
       "mean    920.101400       5.079200    10.190200         52.093200     0.429600   \n",
       "std     440.150464       5.268897    10.565361         40.224501     0.495069   \n",
       "min     250.000000       0.000000     0.000000          0.000000     0.000000   \n",
       "25%     633.000000       2.000000     3.000000         12.000000     0.000000   \n",
       "50%     800.000000       4.000000     6.000000         44.000000     0.000000   \n",
       "75%    1094.000000       6.000000    14.000000         89.000000     1.000000   \n",
       "max    4800.000000      51.000000    83.000000        180.000000     1.000000   \n",
       "\n",
       "       has_roofdeck  has_washer_dryer  has_doorman  has_elevator  \\\n",
       "count    5000.00000       5000.000000  5000.000000   5000.000000   \n",
       "mean        0.12860          0.133800     0.228000      0.240000   \n",
       "std         0.33479          0.340471     0.419585      0.427126   \n",
       "min         0.00000          0.000000     0.000000      0.000000   \n",
       "25%         0.00000          0.000000     0.000000      0.000000   \n",
       "50%         0.00000          0.000000     0.000000      0.000000   \n",
       "75%         0.00000          0.000000     0.000000      0.000000   \n",
       "max         1.00000          1.000000     1.000000      1.000000   \n",
       "\n",
       "       has_dishwasher    has_patio      has_gym  \n",
       "count     5000.000000  5000.000000  5000.000000  \n",
       "mean         0.155600     0.045600     0.143800  \n",
       "std          0.362512     0.208637     0.350922  \n",
       "min          0.000000     0.000000     0.000000  \n",
       "25%          0.000000     0.000000     0.000000  \n",
       "50%          0.000000     0.000000     0.000000  \n",
       "75%          0.000000     0.000000     0.000000  \n",
       "max          1.000000     1.000000     1.000000  "
      ]
     },
     "execution_count": 7,
     "metadata": {},
     "output_type": "execute_result"
    }
   ],
   "source": [
    "df.describe()"
   ]
  },
  {
   "cell_type": "code",
   "execution_count": 8,
   "metadata": {},
   "outputs": [
    {
     "data": {
      "text/plain": [
       "<matplotlib.collections.PathCollection at 0x7f188a2d8e10>"
      ]
     },
     "execution_count": 8,
     "metadata": {},
     "output_type": "execute_result"
    },
    {
     "data": {
      "image/png": "[encoded data removed]",
      "text/plain": [
       "<Figure size 432x288 with 1 Axes>"
      ]
     },
     "metadata": {
      "needs_background": "light"
     },
     "output_type": "display_data"
    }
   ],
   "source": [
    "plt.scatter(df['size_sqft'],df['rent'])"
   ]
  },
  {
   "cell_type": "code",
   "execution_count": 9,
   "metadata": {},
   "outputs": [
    {
     "data": {
      "text/plain": [
       "<matplotlib.collections.PathCollection at 0x7f188a252650>"
      ]
     },
     "execution_count": 9,
     "metadata": {},
     "output_type": "execute_result"
    },
    {
     "data": {
      "image/png": "[encoded data removed]",
      "text/plain": [
       "<Figure size 432x288 with 1 Axes>"
      ]
     },
     "metadata": {
      "needs_background": "light"
     },
     "output_type": "display_data"
    }
   ],
   "source": [
    "plt.scatter(df['bedrooms'],df['rent'])"
   ]
  },
  {
   "cell_type": "code",
   "execution_count": 10,
   "metadata": {},
   "outputs": [
    {
     "data": {
      "text/plain": [
       "<matplotlib.collections.PathCollection at 0x7f188a1c1790>"
      ]
     },
     "execution_count": 10,
     "metadata": {},
     "output_type": "execute_result"
    },
    {
     "data": {
      "image/png": "[encoded data removed]",
      "text/plain": [
       "<Figure size 432x288 with 1 Axes>"
      ]
     },
     "metadata": {
      "needs_background": "light"
     },
     "output_type": "display_data"
    }
   ],
   "source": [
    "plt.scatter(df['bathrooms'],df['rent'])"
   ]
  },
  {
   "cell_type": "code",
   "execution_count": 11,
   "metadata": {},
   "outputs": [
    {
     "data": {
      "text/plain": [
       "<matplotlib.collections.PathCollection at 0x7f188a12e890>"
      ]
     },
     "execution_count": 11,
     "metadata": {},
     "output_type": "execute_result"
    },
    {
     "data": {
      "image/png": "[encoded data removed]",
      "text/plain": [
       "<Figure size 432x288 with 1 Axes>"
      ]
     },
     "metadata": {
      "needs_background": "light"
     },
     "output_type": "display_data"
    }
   ],
   "source": [
    "plt.scatter(df['floor'],df['rent'])"
   ]
  },
  {
   "cell_type": "code",
   "execution_count": 12,
   "metadata": {},
   "outputs": [
    {
     "data": {
      "text/plain": [
       "rental_id             int64\n",
       "building_id           int64\n",
       "rent                  int64\n",
       "bedrooms            float64\n",
       "bathrooms             int64\n",
       "size_sqft             int64\n",
       "min_to_subway         int64\n",
       "floor               float64\n",
       "building_age_yrs      int64\n",
       "no_fee                int64\n",
       "has_roofdeck          int64\n",
       "has_washer_dryer      int64\n",
       "has_doorman           int64\n",
       "has_elevator          int64\n",
       "has_dishwasher        int64\n",
       "has_patio             int64\n",
       "has_gym               int64\n",
       "neighborhood         object\n",
       "submarket            object\n",
       "borough              object\n",
       "dtype: object"
      ]
     },
     "execution_count": 12,
     "metadata": {},
     "output_type": "execute_result"
    }
   ],
   "source": [
    "df.dtypes"
   ]
  },
  {
   "cell_type": "code",
   "execution_count": 13,
   "metadata": {},
   "outputs": [
    {
     "data": {
      "text/plain": [
       "size_sqft           0.808784\n",
       "bathrooms           0.733644\n",
       "bedrooms            0.531200\n",
       "floor               0.272351\n",
       "has_elevator        0.120822\n",
       "has_doorman         0.099106\n",
       "has_dishwasher      0.096631\n",
       "has_washer_dryer    0.096136\n",
       "has_gym             0.093737\n",
       "has_roofdeck        0.081286\n",
       "has_patio           0.058260\n",
       "min_to_subway       0.003652\n",
       "building_id        -0.001235\n",
       "no_fee             -0.091769\n",
       "building_age_yrs   -0.122302\n",
       "rental_id          -0.142801\n",
       "Name: rent, dtype: float64"
      ]
     },
     "execution_count": 13,
     "metadata": {},
     "output_type": "execute_result"
    }
   ],
   "source": [
    "df.corr()['rent'].sort_values(ascending=False)[1:]"
   ]
  },
  {
   "cell_type": "code",
   "execution_count": 15,
   "metadata": {},
   "outputs": [
    {
     "data": {
      "text/plain": [
       "<matplotlib.axes._subplots.AxesSubplot at 0x7f188a20f590>"
      ]
     },
     "execution_count": 15,
     "metadata": {},
     "output_type": "execute_result"
    },
    {
     "data": {
      "image/png": "[encoded data removed]",
      "text/plain": [
       "<Figure size 432x288 with 1 Axes>"
      ]
     },
     "metadata": {
      "needs_background": "light"
     },
     "output_type": "display_data"
    }
   ],
   "source": [
    "sns.scatterplot(data=df,x='bathrooms',y='rent',color='blue')"
   ]
  },
  {
   "cell_type": "code",
   "execution_count": 16,
   "metadata": {},
   "outputs": [
    {
     "data": {
      "text/plain": [
       "0.7336443859581325"
      ]
     },
     "execution_count": 16,
     "metadata": {},
     "output_type": "execute_result"
    }
   ],
   "source": [
    "df.corr()['rent']['bathrooms']"
   ]
  },
  {
   "cell_type": "markdown",
   "metadata": {},
   "source": [
    "Rent and bathroom have a positive linear relationship"
   ]
  },
  {
   "cell_type": "code",
   "execution_count": 17,
   "metadata": {},
   "outputs": [
    {
     "data": {
      "text/plain": [
       "<matplotlib.axes._subplots.AxesSubplot at 0x7f188a01cd10>"
      ]
     },
     "execution_count": 17,
     "metadata": {},
     "output_type": "execute_result"
    },
    {
     "data": {
      "image/png": "[encoded data removed]",
      "text/plain": [
       "<Figure size 432x288 with 1 Axes>"
      ]
     },
     "metadata": {
      "needs_background": "light"
     },
     "output_type": "display_data"
    }
   ],
   "source": [
    "sns.scatterplot(data=df,x='size_sqft',y='rent',color='red')"
   ]
  },
  {
   "cell_type": "code",
   "execution_count": 18,
   "metadata": {},
   "outputs": [
    {
     "data": {
      "text/plain": [
       "0.8087835060658338"
      ]
     },
     "execution_count": 18,
     "metadata": {},
     "output_type": "execute_result"
    }
   ],
   "source": [
    "df.corr()['rent']['size_sqft']"
   ]
  },
  {
   "cell_type": "markdown",
   "metadata": {},
   "source": [
    "Rent and sqfeet has a positive linear relationship"
   ]
  },
  {
   "cell_type": "code",
   "execution_count": 19,
   "metadata": {},
   "outputs": [
    {
     "data": {
      "text/plain": [
       "<matplotlib.axes._subplots.AxesSubplot at 0x7f1889f80f10>"
      ]
     },
     "execution_count": 19,
     "metadata": {},
     "output_type": "execute_result"
    },
    {
     "data": {
      "image/png": "[encoded data removed]",
      "text/plain": [
       "<Figure size 432x288 with 1 Axes>"
      ]
     },
     "metadata": {
      "needs_background": "light"
     },
     "output_type": "display_data"
    }
   ],
   "source": [
    "sns.scatterplot(data=df,x='floor',y='rent',color='green')"
   ]
  },
  {
   "cell_type": "code",
   "execution_count": 20,
   "metadata": {},
   "outputs": [
    {
     "data": {
      "text/plain": [
       "0.27235110961903614"
      ]
     },
     "execution_count": 20,
     "metadata": {},
     "output_type": "execute_result"
    }
   ],
   "source": [
    "df.corr()['rent']['floor']"
   ]
  },
  {
   "cell_type": "markdown",
   "metadata": {},
   "source": [
    "Rent and floor have positive non linear relationship"
   ]
  },
  {
   "cell_type": "code",
   "execution_count": 23,
   "metadata": {},
   "outputs": [],
   "source": [
    "beta,alpha=np.polyfit(df.size_sqft,df.rent,1)"
   ]
  },
  {
   "cell_type": "code",
   "execution_count": 24,
   "metadata": {},
   "outputs": [
    {
     "name": "stdout",
     "output_type": "stream",
     "text": [
      "beta: 5.384, alpha: -416.6.\n"
     ]
    }
   ],
   "source": [
    "print('beta: %0.3f, alpha: %0.1f.'%(beta,alpha))"
   ]
  },
  {
   "cell_type": "code",
   "execution_count": 25,
   "metadata": {},
   "outputs": [
    {
     "name": "stdout",
     "output_type": "stream",
     "text": [
      "Based on this analysis, a 700 square foot apartment would rent for $3351.98\n"
     ]
    }
   ],
   "source": [
    "print('Based on this analysis, a 700 square foot apartment would rent for $%0.2f'%(beta*700+alpha))"
   ]
  },
  {
   "cell_type": "code",
   "execution_count": 27,
   "metadata": {},
   "outputs": [
    {
     "data": {
      "text/plain": [
       "[<matplotlib.lines.Line2D at 0x7f1889efcb50>]"
      ]
     },
     "execution_count": 27,
     "metadata": {},
     "output_type": "execute_result"
    },
    {
     "data": {
      "image/png": "[encoded data removed]",
      "text/plain": [
       "<Figure size 432x288 with 1 Axes>"
      ]
     },
     "metadata": {
      "needs_background": "light"
     },
     "output_type": "display_data"
    }
   ],
   "source": [
    "plt.plot(df.size_sqft,df.rent,color='red',marker='.',markersize=12,linestyle='none')\n",
    "plt.plot([0,4000],[alpha,alpha+beta*4000],color='blue',linewidth=4)\n"
   ]
  },
  {
   "cell_type": "code",
   "execution_count": 28,
   "metadata": {},
   "outputs": [],
   "source": [
    "df['rent_predicted']=df['rent']*beta+alpha\n",
    "df['rent_residual']=df['rent_predicted']-df['rent']"
   ]
  },
  {
   "cell_type": "code",
   "execution_count": 31,
   "metadata": {},
   "outputs": [
    {
     "data": {
      "text/plain": [
       "0       13311.685057\n",
       "1       61495.136533\n",
       "2       15734.316696\n",
       "3       23809.755491\n",
       "4       25397.925120\n",
       "            ...     \n",
       "4995    13850.047644\n",
       "4996    35519.141743\n",
       "4997     8730.219448\n",
       "4998    18291.538981\n",
       "4999    23809.755491\n",
       "Name: rent_predicted, Length: 5000, dtype: float64"
      ]
     },
     "execution_count": 31,
     "metadata": {},
     "output_type": "execute_result"
    }
   ],
   "source": [
    "df['rent_predicted']"
   ]
  },
  {
   "cell_type": "code",
   "execution_count": 32,
   "metadata": {},
   "outputs": [
    {
     "data": {
      "text/plain": [
       "0       10761.685057\n",
       "1       49995.136533\n",
       "2       12734.316696\n",
       "3       19309.755491\n",
       "4       20602.925120\n",
       "            ...     \n",
       "4995    11200.047644\n",
       "4996    28844.141743\n",
       "4997     7031.219448\n",
       "4998    14816.538981\n",
       "4999    19309.755491\n",
       "Name: rent_residual, Length: 5000, dtype: float64"
      ]
     },
     "execution_count": 32,
     "metadata": {},
     "output_type": "execute_result"
    }
   ],
   "source": [
    "df['rent_residual']"
   ]
  },
  {
   "cell_type": "markdown",
   "metadata": {},
   "source": [
    "### Using statsmodels for Single Variable Linear Regression"
   ]
  },
  {
   "cell_type": "code",
   "execution_count": 33,
   "metadata": {},
   "outputs": [
    {
     "name": "stdout",
     "output_type": "stream",
     "text": [
      "                            OLS Regression Results                            \n",
      "==============================================================================\n",
      "Dep. Variable:                   rent   R-squared:                       0.654\n",
      "Model:                            OLS   Adj. R-squared:                  0.654\n",
      "Method:                 Least Squares   F-statistic:                     9453.\n",
      "Date:                Thu, 31 Mar 2022   Prob (F-statistic):               0.00\n",
      "Time:                        11:49:24   Log-Likelihood:                -44353.\n",
      "No. Observations:                5000   AIC:                         8.871e+04\n",
      "Df Residuals:                    4998   BIC:                         8.872e+04\n",
      "Df Model:                           1                                         \n",
      "Covariance Type:            nonrobust                                         \n",
      "==============================================================================\n",
      "                 coef    std err          t      P>|t|      [0.025      0.975]\n",
      "------------------------------------------------------------------------------\n",
      "const       -416.5609     56.478     -7.376      0.000    -527.282    -305.840\n",
      "size_sqft      5.3836      0.055     97.224      0.000       5.275       5.492\n",
      "==============================================================================\n",
      "Omnibus:                      870.478   Durbin-Watson:                   2.006\n",
      "Prob(Omnibus):                  0.000   Jarque-Bera (JB):             7186.761\n",
      "Skew:                           0.594   Prob(JB):                         0.00\n",
      "Kurtosis:                       8.752   Cond. No.                     2.36e+03\n",
      "==============================================================================\n",
      "\n",
      "Warnings:\n",
      "[1] Standard Errors assume that the covariance matrix of the errors is correctly specified.\n",
      "[2] The condition number is large, 2.36e+03. This might indicate that there are\n",
      "strong multicollinearity or other numerical problems.\n"
     ]
    }
   ],
   "source": [
    "# Add a constant to our existing dataframe for modeling purposes\n",
    "df = sm.add_constant(df)\n",
    "est = sm.OLS(df['rent'],\n",
    "df[['const', 'size_sqft']]).fit()\n",
    "print(est.summary())"
   ]
  },
  {
   "cell_type": "code",
   "execution_count": 35,
   "metadata": {},
   "outputs": [
    {
     "name": "stdout",
     "output_type": "stream",
     "text": [
      "                            OLS Regression Results                            \n",
      "==============================================================================\n",
      "Dep. Variable:                   rent   R-squared:                       0.716\n",
      "Model:                            OLS   Adj. R-squared:                  0.716\n",
      "Method:                 Least Squares   F-statistic:                     3151.\n",
      "Date:                Thu, 31 Mar 2022   Prob (F-statistic):               0.00\n",
      "Time:                        11:50:39   Log-Likelihood:                -43859.\n",
      "No. Observations:                5000   AIC:                         8.773e+04\n",
      "Df Residuals:                    4995   BIC:                         8.776e+04\n",
      "Df Model:                           4                                         \n",
      "Covariance Type:            nonrobust                                         \n",
      "===============================================================================\n",
      "                  coef    std err          t      P>|t|      [0.025      0.975]\n",
      "-------------------------------------------------------------------------------\n",
      "const       -1362.8677     59.283    -22.989      0.000   -1479.089   -1246.647\n",
      "size_sqft       4.0150      0.079     50.975      0.000       3.861       4.169\n",
      "bathrooms    1254.2537     61.633     20.350      0.000    1133.427    1375.081\n",
      "floor          47.6704      2.128     22.400      0.000      43.498      51.843\n",
      "has_doorman   272.7467     53.074      5.139      0.000     168.699     376.794\n",
      "==============================================================================\n",
      "Omnibus:                     1234.155   Durbin-Watson:                   2.009\n",
      "Prob(Omnibus):                  0.000   Jarque-Bera (JB):             9467.982\n",
      "Skew:                           0.968   Prob(JB):                         0.00\n",
      "Kurtosis:                       9.458   Cond. No.                     3.31e+03\n",
      "==============================================================================\n",
      "\n",
      "Warnings:\n",
      "[1] Standard Errors assume that the covariance matrix of the errors is correctly specified.\n",
      "[2] The condition number is large, 3.31e+03. This might indicate that there are\n",
      "strong multicollinearity or other numerical problems.\n"
     ]
    }
   ],
   "source": [
    "est = sm.OLS(df['rent'],df[['const','size_sqft','bathrooms','floor','has_doorman']]).fit()\n",
    "print(est.summary())\n"
   ]
  },
  {
   "cell_type": "code",
   "execution_count": 37,
   "metadata": {},
   "outputs": [
    {
     "name": "stdout",
     "output_type": "stream",
     "text": [
      "                            OLS Regression Results                            \n",
      "==============================================================================\n",
      "Dep. Variable:                   rent   R-squared:                       0.734\n",
      "Model:                            OLS   Adj. R-squared:                  0.733\n",
      "Method:                 Least Squares   F-statistic:                     858.1\n",
      "Date:                Thu, 31 Mar 2022   Prob (F-statistic):               0.00\n",
      "Time:                        11:51:07   Log-Likelihood:                -43700.\n",
      "No. Observations:                5000   AIC:                         8.743e+04\n",
      "Df Residuals:                    4983   BIC:                         8.754e+04\n",
      "Df Model:                          16                                         \n",
      "Covariance Type:            nonrobust                                         \n",
      "====================================================================================\n",
      "                       coef    std err          t      P>|t|      [0.025      0.975]\n",
      "------------------------------------------------------------------------------------\n",
      "const             -777.1793    100.937     -7.700      0.000    -975.059    -579.299\n",
      "rental_id           -0.0396      0.007     -5.949      0.000      -0.053      -0.027\n",
      "building_id       -1.79e-07   7.68e-07     -0.233      0.816   -1.68e-06    1.33e-06\n",
      "bedrooms          -448.8758     34.356    -13.066      0.000    -516.228    -381.524\n",
      "bathrooms         1337.9998     62.256     21.492      0.000    1215.951    1460.048\n",
      "size_sqft            4.6522      0.089     52.028      0.000       4.477       4.828\n",
      "min_to_subway      -16.5954      4.129     -4.019      0.000     -24.690      -8.501\n",
      "floor               38.1177      2.218     17.185      0.000      33.769      42.466\n",
      "building_age_yrs    -4.2090      0.597     -7.047      0.000      -5.380      -3.038\n",
      "no_fee             -77.5812     45.713     -1.697      0.090    -167.198      12.036\n",
      "has_roofdeck        43.9167     82.388      0.533      0.594    -117.599     205.433\n",
      "has_washer_dryer   149.3765     74.678      2.000      0.046       2.974     295.779\n",
      "has_doorman        -46.5556     79.862     -0.583      0.560    -203.120     110.009\n",
      "has_elevator       224.5944     81.950      2.741      0.006      63.936     385.253\n",
      "has_dishwasher      40.3748     71.617      0.564      0.573    -100.025     180.775\n",
      "has_patio          -32.7547    105.289     -0.311      0.756    -239.167     173.657\n",
      "has_gym            -38.7492     91.102     -0.425      0.671    -217.350     139.852\n",
      "==============================================================================\n",
      "Omnibus:                     1211.341   Durbin-Watson:                   2.027\n",
      "Prob(Omnibus):                  0.000   Jarque-Bera (JB):             9773.154\n",
      "Skew:                           0.931   Prob(JB):                         0.00\n",
      "Kurtosis:                       9.591   Cond. No.                     2.91e+08\n",
      "==============================================================================\n",
      "\n",
      "Warnings:\n",
      "[1] Standard Errors assume that the covariance matrix of the errors is correctly specified.\n",
      "[2] The condition number is large, 2.91e+08. This might indicate that there are\n",
      "strong multicollinearity or other numerical problems.\n"
     ]
    }
   ],
   "source": [
    "est = sm.OLS(df['rent'],df.drop(['neighborhood','submarket','borough','rent','rent_predicted','rent_residual'],axis=1)).fit()\n",
    "print(est.summary())"
   ]
  },
  {
   "cell_type": "code",
   "execution_count": 38,
   "metadata": {},
   "outputs": [
    {
     "data": {
      "image/png": "[encoded data removed]",
      "text/plain": [
       "<Figure size 432x288 with 1 Axes>"
      ]
     },
     "metadata": {
      "needs_background": "light"
     },
     "output_type": "display_data"
    }
   ],
   "source": [
    "plt.hist(est.resid,bins=50)\n",
    "plt.show()\n"
   ]
  },
  {
   "cell_type": "code",
   "execution_count": 39,
   "metadata": {},
   "outputs": [
    {
     "data": {
      "text/plain": [
       "LinearRegression(copy_X=True, fit_intercept=True, n_jobs=None, normalize=False)"
      ]
     },
     "execution_count": 39,
     "metadata": {},
     "output_type": "execute_result"
    }
   ],
   "source": [
    "# This create a LinearRegression object\n",
    "lm = LinearRegression()\n",
    "lm"
   ]
  },
  {
   "cell_type": "code",
   "execution_count": 40,
   "metadata": {},
   "outputs": [
    {
     "data": {
      "text/plain": [
       "LinearRegression(copy_X=True, fit_intercept=True, n_jobs=None, normalize=False)"
      ]
     },
     "execution_count": 40,
     "metadata": {},
     "output_type": "execute_result"
    }
   ],
   "source": [
    "# Fitting of  independent variables with rent\n",
    "dependent_vars = ['bedrooms','bathrooms','min_to_subway','floor','building_age_yrs','no_fee','has_roofdeck','has_washer_dryer','has_doorman','has_elevator','has_dishwasher','has_patio','has_gym']\n",
    "X = df[dependent_vars]\n",
    "lm.fit(X, df.rent)\n"
   ]
  },
  {
   "cell_type": "code",
   "execution_count": 41,
   "metadata": {},
   "outputs": [
    {
     "name": "stdout",
     "output_type": "stream",
     "text": [
      "Estimated intercept coefficient: -515.5040360810199\n",
      "Number of coefficients: 13\n"
     ]
    }
   ],
   "source": [
    "print('Estimated intercept coefficient:', lm.intercept_)\n",
    "print('Number of coefficients:', len(lm.coef_))\n"
   ]
  },
  {
   "cell_type": "code",
   "execution_count": 42,
   "metadata": {},
   "outputs": [
    {
     "data": {
      "text/html": [
       "<div>\n",
       "<style scoped>\n",
       "    .dataframe tbody tr th:only-of-type {\n",
       "        vertical-align: middle;\n",
       "    }\n",
       "\n",
       "    .dataframe tbody tr th {\n",
       "        vertical-align: top;\n",
       "    }\n",
       "\n",
       "    .dataframe thead th {\n",
       "        text-align: right;\n",
       "    }\n",
       "</style>\n",
       "<table border=\"1\" class=\"dataframe\">\n",
       "  <thead>\n",
       "    <tr style=\"text-align: right;\">\n",
       "      <th></th>\n",
       "      <th>Est. coefficient</th>\n",
       "    </tr>\n",
       "  </thead>\n",
       "  <tbody>\n",
       "    <tr>\n",
       "      <th>bedrooms</th>\n",
       "      <td>417.730687</td>\n",
       "    </tr>\n",
       "    <tr>\n",
       "      <th>bathrooms</th>\n",
       "      <td>3171.816130</td>\n",
       "    </tr>\n",
       "    <tr>\n",
       "      <th>min_to_subway</th>\n",
       "      <td>-22.630204</td>\n",
       "    </tr>\n",
       "    <tr>\n",
       "      <th>floor</th>\n",
       "      <td>49.132507</td>\n",
       "    </tr>\n",
       "    <tr>\n",
       "      <th>building_age_yrs</th>\n",
       "      <td>-1.488370</td>\n",
       "    </tr>\n",
       "    <tr>\n",
       "      <th>no_fee</th>\n",
       "      <td>-344.120712</td>\n",
       "    </tr>\n",
       "    <tr>\n",
       "      <th>has_roofdeck</th>\n",
       "      <td>-4.475219</td>\n",
       "    </tr>\n",
       "    <tr>\n",
       "      <th>has_washer_dryer</th>\n",
       "      <td>191.475476</td>\n",
       "    </tr>\n",
       "    <tr>\n",
       "      <th>has_doorman</th>\n",
       "      <td>-41.004582</td>\n",
       "    </tr>\n",
       "    <tr>\n",
       "      <th>has_elevator</th>\n",
       "      <td>400.797299</td>\n",
       "    </tr>\n",
       "    <tr>\n",
       "      <th>has_dishwasher</th>\n",
       "      <td>147.357561</td>\n",
       "    </tr>\n",
       "    <tr>\n",
       "      <th>has_patio</th>\n",
       "      <td>-83.967351</td>\n",
       "    </tr>\n",
       "    <tr>\n",
       "      <th>has_gym</th>\n",
       "      <td>-96.097033</td>\n",
       "    </tr>\n",
       "  </tbody>\n",
       "</table>\n",
       "</div>"
      ],
      "text/plain": [
       "                  Est. coefficient\n",
       "bedrooms                417.730687\n",
       "bathrooms              3171.816130\n",
       "min_to_subway           -22.630204\n",
       "floor                    49.132507\n",
       "building_age_yrs         -1.488370\n",
       "no_fee                 -344.120712\n",
       "has_roofdeck             -4.475219\n",
       "has_washer_dryer        191.475476\n",
       "has_doorman             -41.004582\n",
       "has_elevator            400.797299\n",
       "has_dishwasher          147.357561\n",
       "has_patio               -83.967351\n",
       "has_gym                 -96.097033"
      ]
     },
     "execution_count": 42,
     "metadata": {},
     "output_type": "execute_result"
    }
   ],
   "source": [
    "pd.DataFrame(lm.coef_, index = dependent_vars, columns = ['Est. coefficient'])"
   ]
  },
  {
   "cell_type": "code",
   "execution_count": 43,
   "metadata": {},
   "outputs": [
    {
     "data": {
      "text/plain": [
       "array([2629.06488344, 6479.31777692, 3710.34863476, 5994.05257186,\n",
       "       3764.12600492])"
      ]
     },
     "execution_count": 43,
     "metadata": {},
     "output_type": "execute_result"
    }
   ],
   "source": [
    "# First five values of predicted rent\n",
    "lm.predict(X)[0:5]"
   ]
  },
  {
   "cell_type": "code",
   "execution_count": 45,
   "metadata": {},
   "outputs": [
    {
     "data": {
      "image/png": "[encoded data removed]",
      "text/plain": [
       "<Figure size 432x288 with 1 Axes>"
      ]
     },
     "metadata": {
      "needs_background": "light"
     },
     "output_type": "display_data"
    }
   ],
   "source": [
    "plt.hist(lm.predict(X))\n",
    "plt.title(\"Predicted rent (fitted values): $\\hat{Y}_i$\")\n",
    "plt.xlabel(\"Monthly rent\")\n",
    "plt.ylabel(\"frequency\")\n",
    "plt.show()"
   ]
  },
  {
   "cell_type": "code",
   "execution_count": 46,
   "metadata": {},
   "outputs": [
    {
     "data": {
      "image/png": "[encoded data removed]",
      "text/plain": [
       "<Figure size 432x288 with 1 Axes>"
      ]
     },
     "metadata": {
      "needs_background": "light"
     },
     "output_type": "display_data"
    }
   ],
   "source": [
    "plt.hist(lm.predict(X))\n",
    "plt.title(\"Predicted rent (fitted values): $\\hat{Y}_i$\")\n",
    "plt.xlabel(\"Monthly rent\")\n",
    "plt.ylabel(\"frequency\")\n",
    "plt.show()\n"
   ]
  },
  {
   "cell_type": "code",
   "execution_count": 48,
   "metadata": {},
   "outputs": [
    {
     "name": "stdout",
     "output_type": "stream",
     "text": [
      "17730479762.04\n"
     ]
    }
   ],
   "source": [
    "# sum of squares of rent residuals\n",
    "print('%0.2f' % np.sum((df['rent']-lm.predict(X))**2))"
   ]
  },
  {
   "cell_type": "code",
   "execution_count": null,
   "metadata": {},
   "outputs": [],
   "source": []
  }
 ],
 "metadata": {
  "kernelspec": {
   "display_name": "Python 3",
   "language": "python",
   "name": "python3"
  },
  "language_info": {
   "codemirror_mode": {
    "name": "ipython",
    "version": 3
   },
   "file_extension": ".py",
   "mimetype": "text/x-python",
   "name": "python",
   "nbconvert_exporter": "python",
   "pygments_lexer": "ipython3",
   "version": "3.7.6"
  }
 },
 "nbformat": 4,
 "nbformat_minor": 4
}
